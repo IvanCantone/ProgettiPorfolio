{
 "cells": [
  {
   "cell_type": "code",
   "execution_count": 1,
   "id": "9e02faf3",
   "metadata": {},
   "outputs": [],
   "source": [
    "#Il progetto ha lo scopo di fare Web Scraping, quindi come pagina web utilizziamo Amazon e andiamo a prendere informazioni sul\n",
    "# prodotto, in questo caso una maglia\n",
    "\n",
    "\n",
    "#Importiamo le librerie\n",
    "\n",
    "from bs4 import BeautifulSoup\n",
    "import requests\n",
    "import time\n",
    "import datetime\n",
    "\n",
    "#Opzionale.Vedi fine progetto\n",
    "import smtplib"
   ]
  },
  {
   "cell_type": "code",
   "execution_count": 14,
   "id": "cadff215",
   "metadata": {},
   "outputs": [
    {
     "name": "stdout",
     "output_type": "stream",
     "text": [
      "\n",
      "                    Oh... Questo richiede un foglio di calcolo Detti contabili divertenti Maglia a Manica\n",
      "                   \n",
      "\n",
      "                    16,20 €\n",
      "                   \n"
     ]
    }
   ],
   "source": [
    "#Connessione con il sito web e ricerca dei dati da esso.\n",
    "\n",
    "url='https://www.amazon.it/Questo-richiede-calcolo-contabili-divertenti/dp/B0CJ4DSSN3/ref=sr_1_1_sspa?crid=2ZZXBTOCMRN0I&dib=eyJ2IjoiMSJ9.QFkzS1I6XZDwYLEWVvKBbYDCWs8KIeiUBTb3C87wYdHrNgacMB-_nGuyHInjaZ2mnplV2vUvvFYcuUzIYzSxiyj89o5G_5-rTTA0XgHyXutnB1Lbo0-OBFv44jHLCBAj-HU__nS6O4CXBT1eQJX5v9k6zUm1D5bmrcR_I3Xk028J7duqj4G0-pioKVwbUo8sagdD5PDbBNiP82b_qB-ZW-uiZjUw49h7GNJCdTYZdrL1o0IPSjdz2hYiLXpdZfXU-FZZho0NBcyzLXD-_iJ5f1evMCMubHfWOyQR6M-AED8.gq2_sSqKp9bCEkXwCDo_Vi9RqsbGfCzy_egi8CJaaxE&dib_tag=se&keywords=data%2Banalyst%2Bmaglie&qid=1716299170&sprefix=%2Caps%2C87&sr=8-1-spons&sp_csd=d2lkZ2V0TmFtZT1zcF9hdGY&customId=B078RWLY49&customizationToken=MC_Assembly_1%23B078RWLY49&th=1&psc=1'\n",
    "\n",
    "headers= {\"User-Agent\": \"Mozilla/5.0 (Windows NT 10.0; Win64; x64) AppleWebKit/537.36 (KHTML, like Gecko) Chrome/124.0.0.0 Safari/537.36\", \"Accept-Encoding\":\"gzip, deflate\", \"Accept\":\"text/html,application/xhtml+xml,application/xml;q=0.9,*/*;q=0.8\", \"DNT\":\"1\",\"Connection\":\"close\", \"Upgrade-Insecure-Requests\":\"1\"}\n",
    "\n",
    "page = requests.get(url, headers=headers)\n",
    "\n",
    "soup1 = BeautifulSoup(page.content, \"html.parser\")\n",
    "\n",
    "soup2 = BeautifulSoup(soup1.prettify(), \"html.parser\")\n",
    "\n",
    "title = soup2.find(id='productTitle').get_text()\n",
    "\n",
    "price = soup2.find(class_=\"aok-offscreen\").get_text()\n",
    "\n",
    "\n",
    "print(title)\n",
    "print(price)\n",
    "\n",
    "\n",
    "\n"
   ]
  },
  {
   "cell_type": "code",
   "execution_count": 17,
   "id": "43768213",
   "metadata": {},
   "outputs": [
    {
     "name": "stdout",
     "output_type": "stream",
     "text": [
      "Oh... Questo richiede un foglio di calcolo Detti contabili divertenti Maglia a Manica\n",
      "16,20\n"
     ]
    }
   ],
   "source": [
    "#Pulizia dei dati, in più con [0:5] andiamo di fatto ad eliminare il simbolo € pensando già che in futuro creeremo un file CSV.\n",
    "\n",
    "price = price.strip()[0:5]\n",
    "title = title.strip()\n",
    "\n",
    "print(title)\n",
    "print(price)"
   ]
  },
  {
   "cell_type": "code",
   "execution_count": 18,
   "id": "8a54b1c3",
   "metadata": {},
   "outputs": [
    {
     "name": "stdout",
     "output_type": "stream",
     "text": [
      "2024-05-21\n"
     ]
    }
   ],
   "source": [
    "#Importiamo datetime per tenere traccia, nell'output, di quando abbiamo inserito i dati.\n",
    "\n",
    "\n",
    "import datetime\n",
    "\n",
    "today = datetime.date.today()\n",
    "\n",
    "print(today)"
   ]
  },
  {
   "cell_type": "code",
   "execution_count": 25,
   "id": "40673558",
   "metadata": {},
   "outputs": [],
   "source": [
    "#Creiamo il nostro file CSV e creiamo anche i nostri header e data.\n",
    "\n",
    "import csv \n",
    "\n",
    "header = ['Title', 'Price', 'Date']\n",
    "data = [title, price, today]\n",
    "\n",
    "\n",
    "with open('AmazonWebScraping.csv', 'w', newline='', encoding='UTF8') as f:\n",
    "    writer = csv.writer(f)\n",
    "    writer.writerow(header)\n",
    "    writer.writerow(data)\n",
    "    "
   ]
  },
  {
   "cell_type": "code",
   "execution_count": 28,
   "id": "f6f42cea",
   "metadata": {},
   "outputs": [
    {
     "name": "stdout",
     "output_type": "stream",
     "text": [
      "                                               Title  Price        Date\n",
      "0  Oh... Questo richiede un foglio di calcolo Det...  16,20  2024-05-21\n"
     ]
    }
   ],
   "source": [
    "#Importiamo pandas per poter 'leggere' il nostro dataframe\n",
    "\n",
    "import pandas as pd\n",
    "\n",
    "df = pd.read_csv(r'C:\\Users\\User\\Documents\\Progetti Portfolio\\ProgettoPython\\WebScraping\\AmazonWebScraping.csv')\n",
    "\n",
    "print(df)"
   ]
  },
  {
   "cell_type": "code",
   "execution_count": 27,
   "id": "3cc030b4",
   "metadata": {},
   "outputs": [],
   "source": [
    "#Aggiungiamo dati.Infatti non abbiamo più bisogno dell'header e utilizziamo a+ che ci permette di aggiungere(append) dati.\n",
    "\n",
    "\n",
    "with open('AmazonWebScraping.csv', 'a+', newline='', encoding='UTF8') as f:\n",
    "    writer = csv.writer(f)\n",
    "    writer.writerow(data)"
   ]
  },
  {
   "cell_type": "code",
   "execution_count": 50,
   "id": "3e3f099f",
   "metadata": {},
   "outputs": [],
   "source": [
    "#Creiamo una funzione che automaticamente faccia questo per noi, ovvero vada ad aggiungere dati. Quindi non dobbiamo farlo\n",
    "# manualmente noi.\n",
    "\n",
    "\n",
    "def check_prices():\n",
    "    url = 'https://www.amazon.it/Questo-richiede-calcolo-contabili-divertenti/dp/B0CJ4DSSN3/ref=sr_1_1_sspa?crid=2ZZXBTOCMRN0I&dib=eyJ2IjoiMSJ9.QFkzS1I6XZDwYLEWVvKBbYDCWs8KIeiUBTb3C87wYdHrNgacMB-_nGuyHInjaZ2mnplV2vUvvFYcuUzIYzSxiyj89o5G_5-rTTA0XgHyXutnB1Lbo0-OBFv44jHLCBAj-HU__nS6O4CXBT1eQJX5v9k6zUm1D5bmrcR_I3Xk028J7duqj4G0-pioKVwbUo8sagdD5PDbBNiP82b_qB-ZW-uiZjUw49h7GNJCdTYZdrL1o0IPSjdz2hYiLXpdZfXU-FZZho0NBcyzLXD-_iJ5f1evMCMubHfWOyQR6M-AED8.gq2_sSqKp9bCEkXwCDo_Vi9RqsbGfCzy_egi8CJaaxE&dib_tag=se&keywords=data%2Banalyst%2Bmaglie&qid=1716299170&sprefix=%2Caps%2C87&sr=8-1-spons&sp_csd=d2lkZ2V0TmFtZT1zcF9hdGY&customId=B078RWLY49&customizationToken=MC_Assembly_1%23B078RWLY49&th=1&psc=1'\n",
    "    \n",
    "    headers = {\n",
    "        \"User-Agent\": \"Mozilla/5.0 (Windows NT 10.0; Win64; x64) AppleWebKit/537.36 (KHTML, like Gecko) Chrome/124.0.0.0 Safari/537.36\",\n",
    "        \"Accept-Encoding\": \"gzip, deflate\",\n",
    "        \"Accept\": \"text/html,application/xhtml+xml,application/xml;q=0.9,*/*;q=0.8\",\n",
    "        \"DNT\": \"1\",\n",
    "        \"Connection\": \"close\",\n",
    "        \"Upgrade-Insecure-Requests\": \"1\"\n",
    "    }\n",
    "\n",
    "    page = requests.get(url, headers=headers)\n",
    "    soup1 = BeautifulSoup(page.content, \"html.parser\")\n",
    "    soup2 = BeautifulSoup(soup1.prettify(), \"html.parser\")\n",
    "\n",
    "    title = soup2.find(id='productTitle').get_text()\n",
    "    price = soup2.find(class_=\"aok-offscreen\").get_text()\n",
    "\n",
    "    price = price.strip()[0:5]\n",
    "    title = title.strip()\n",
    "    \n",
    "    import datetime\n",
    "    \n",
    "    today = datetime.date.today()\n",
    "    \n",
    "    import csv \n",
    "    \n",
    "    header = ['Title', 'Price', 'Date']\n",
    "    data = [title, price, today]\n",
    "\n",
    "    with open('AmazonWebScraping.csv', 'a+', newline='', encoding='UTF8') as f:\n",
    "        writer = csv.writer(f)\n",
    "        writer.writerow(data)\n",
    "\n",
    "\n",
    "     \n",
    "        \n",
    "        \n",
    "        \n"
   ]
  },
  {
   "cell_type": "code",
   "execution_count": null,
   "id": "2d5167dd",
   "metadata": {},
   "outputs": [],
   "source": [
    "#Impostiamo con un while,in pratica, ogni quanto vogliamo che la funzione check_prices() si esegua, in modo tale che ogni\n",
    "# tot tempo(in base quello che indichiamo) aggiunga automaticamente un nuovo dato. In questo caso ogni giorno(86400 secondi)\n",
    "\n",
    "while(True):\n",
    "    check_prices()\n",
    "    time.sleep(86400)"
   ]
  },
  {
   "cell_type": "code",
   "execution_count": null,
   "id": "7e1c1efb",
   "metadata": {},
   "outputs": [],
   "source": [
    "import pandas as pd\n",
    "\n",
    "df = pd.read_csv(r'C:\\Users\\User\\Documents\\Progetti Portfolio\\ProgettoPython\\WebScraping\\AmazonWebScraping.csv')\n",
    "\n",
    "print(df)"
   ]
  },
  {
   "cell_type": "code",
   "execution_count": null,
   "id": "ed633194",
   "metadata": {},
   "outputs": [],
   "source": [
    "#OPZIONALE . In pratica possiamo inserire all'interno della funzione scritta in precedenza queste due righe di codice, in modo\n",
    "# tale che quando viene soddisfatta la richiesta, ci verrà mandata una email e potremmo acquistare il prodotto al prezzo che\n",
    "# volevamo. \n",
    "\n",
    "#if(price < 15):\n",
    "#  send_mail()\n",
    "\n",
    "# Ora creiamo la funzione send_mail()\n",
    "\n",
    "def send_mail():\n",
    "    server = smtplib.SMTP_SSL('smtp.gmail.com',465)\n",
    "    server.ehlo()\n",
    "    #server.starttls()\n",
    "    server.ehlo()\n",
    "    server.login('IvanCantone@gmail.com','xxxxxxxxxxxxxx')\n",
    "    \n",
    "    subject = \"La maglia che desideravi al momento costa meno di 15€. Non perder l'occasione!!!\"\n",
    "    body = \"Ivan, E' il momento che stavi attendendo. Ora puoi acquistare la maglia che desideravi al prezzo che volevi tu. Ecco il link: 'https://www.amazon.it/Questo-richiede-calcolo-contabili-divertenti/dp/B0CJ4DSSN3/ref=sr_1_1_sspa?crid=2ZZXBTOCMRN0I&dib=eyJ2IjoiMSJ9.QFkzS1I6XZDwYLEWVvKBbYDCWs8KIeiUBTb3C87wYdHrNgacMB-_nGuyHInjaZ2mnplV2vUvvFYcuUzIYzSxiyj89o5G_5-rTTA0XgHyXutnB1Lbo0-OBFv44jHLCBAj-HU__nS6O4CXBT1eQJX5v9k6zUm1D5bmrcR_I3Xk028J7duqj4G0-pioKVwbUo8sagdD5PDbBNiP82b_qB-ZW-uiZjUw49h7GNJCdTYZdrL1o0IPSjdz2hYiLXpdZfXU-FZZho0NBcyzLXD-_iJ5f1evMCMubHfWOyQR6M-AED8.gq2_sSqKp9bCEkXwCDo_Vi9RqsbGfCzy_egi8CJaaxE&dib_tag=se&keywords=data%2Banalyst%2Bmaglie&qid=1716299170&sprefix=%2Caps%2C87&sr=8-1-spons&sp_csd=d2lkZ2V0TmFtZT1zcF9hdGY&customId=B078RWLY49&customizationToken=MC_Assembly_1%23B078RWLY49&th=1&psc=1\"\n",
    "   \n",
    "    msg = f\"Subject: {subject}\\n\\n{body}\"\n",
    "    \n",
    "    server.sendmail(\n",
    "        'IvanCantone@gmail.com',\n",
    "        msg\n",
    "     \n",
    "    )"
   ]
  },
  {
   "cell_type": "code",
   "execution_count": null,
   "id": "81e8793f",
   "metadata": {},
   "outputs": [],
   "source": []
  },
  {
   "cell_type": "code",
   "execution_count": null,
   "id": "6f927131",
   "metadata": {},
   "outputs": [],
   "source": []
  },
  {
   "cell_type": "code",
   "execution_count": null,
   "id": "dcfb2893",
   "metadata": {},
   "outputs": [],
   "source": []
  },
  {
   "cell_type": "code",
   "execution_count": null,
   "id": "81ed9f63",
   "metadata": {},
   "outputs": [],
   "source": []
  },
  {
   "cell_type": "code",
   "execution_count": null,
   "id": "67a33a55",
   "metadata": {},
   "outputs": [],
   "source": []
  },
  {
   "cell_type": "code",
   "execution_count": null,
   "id": "a9bb69f3",
   "metadata": {},
   "outputs": [],
   "source": []
  },
  {
   "cell_type": "code",
   "execution_count": null,
   "id": "a01bea95",
   "metadata": {},
   "outputs": [],
   "source": []
  },
  {
   "cell_type": "code",
   "execution_count": null,
   "id": "da08aab0",
   "metadata": {},
   "outputs": [],
   "source": []
  }
 ],
 "metadata": {
  "kernelspec": {
   "display_name": "Python 3 (ipykernel)",
   "language": "python",
   "name": "python3"
  },
  "language_info": {
   "codemirror_mode": {
    "name": "ipython",
    "version": 3
   },
   "file_extension": ".py",
   "mimetype": "text/x-python",
   "name": "python",
   "nbconvert_exporter": "python",
   "pygments_lexer": "ipython3",
   "version": "3.11.7"
  }
 },
 "nbformat": 4,
 "nbformat_minor": 5
}
